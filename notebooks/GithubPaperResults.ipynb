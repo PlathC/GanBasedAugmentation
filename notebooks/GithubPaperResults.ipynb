{
 "cells": [
  {
   "cell_type": "markdown",
   "metadata": {
    "id": "e73RFlfR1fnc"
   },
   "source": [
    "# Generation of the result presented in Class-aware data augmentation by GAN specialization to improve endoscopic images classification"
   ]
  },
  {
   "cell_type": "markdown",
   "metadata": {
    "id": "Wcylk3gM1qIL"
   },
   "source": [
    "## Data\n",
    "\n",
    "The following scripts aim to download the data. Please take a look at the [README](https://github.com/PlathC/GanAugmentedCNN) in order to understand how to apply naming modification to Hyper-Kvasir (available [here](https://datasets.simula.no/hyper-kvasir/)) in order to make this script works."
   ]
  },
  {
   "cell_type": "code",
   "execution_count": null,
   "metadata": {
    "id": "51RihQLe2H55"
   },
   "outputs": [],
   "source": [
    "GOOGLE_DRIVE_DATASET_ID = ''\n",
    "GOOGLE_DRIVE_DATASET_NAME = 'v2-training-set-full.zip'\n",
    "OUTPUT_DIR = '../results/'\n",
    "CHECKPOINT_DIR = '../checkpoints/'\n",
    "import os"
   ]
  },
  {
   "cell_type": "code",
   "execution_count": null,
   "metadata": {
    "id": "duDOstXE1cJv"
   },
   "outputs": [],
   "source": [
    "import torch\n",
    "from torch.utils.data import Dataset, DataLoader\n",
    "import os\n",
    "import cv2\n",
    "from skimage import io\n",
    "import matplotlib.pyplot as plt\n",
    "\n",
    "def directory_find(atom, root='.'):\n",
    "    for path, dirs, files in os.walk(root):\n",
    "        if atom in dirs:\n",
    "            return os.path.join(path, atom)\n",
    "    return ''\n",
    "\n",
    "# Install the PyDrive wrapper & import libraries.\n",
    "from pydrive.auth import GoogleAuth\n",
    "from pydrive.drive import GoogleDrive\n",
    "from google.colab import auth\n",
    "from oauth2client.client import GoogleCredentials\n",
    "from googleapiclient.http import MediaIoBaseDownload\n",
    "import io\n",
    "\n",
    "# Authenticate and create the PyDrive client.\n",
    "auth.authenticate_user()\n",
    "gauth = GoogleAuth()\n",
    "gauth.credentials = GoogleCredentials.get_application_default()\n",
    "drive = GoogleDrive(gauth)\n",
    "\n",
    "def downloadextract(id, file):\n",
    "    file_id = id\n",
    "    downloaded = drive.CreateFile({'id':file_id})\n",
    "    downloaded.FetchMetadata(fetch_all=True)\n",
    "\n",
    "    local_file = io.FileIO(file, mode='wb')\n",
    "    id = downloaded.metadata.get('id')\n",
    "    request = drive.auth.service.files().get_media(fileId=id)\n",
    "    downloader = MediaIoBaseDownload(local_file, request, chunksize=2048*50240)\n",
    "\n",
    "    done = False\n",
    "\n",
    "    while done is False:\n",
    "        status, done = downloader.next_chunk()\n",
    "    local_file.close()\n",
    "\n",
    "    import zipfile\n",
    "    print('Starting extraction...')\n",
    "    with zipfile.ZipFile(file) as zip_ref:\n",
    "        zip_ref.extractall('.')\n",
    "    print(f'Extraction of {file} done.')    \n",
    "\n",
    "\n",
    "if not os.path.exists(GOOGLE_DRIVE_DATASET_NAME):\n",
    "    downloadextract(GOOGLE_DRIVE_DATASET_ID, GOOGLE_DRIVE_DATASET_NAME)\n",
    "\n",
    "from google.colab import drive\n",
    "drive.mount('/content/gdrive')"
   ]
  },
  {
   "cell_type": "markdown",
   "metadata": {
    "id": "tQn7IuA12SXc"
   },
   "source": [
    "## Results generation"
   ]
  },
  {
   "cell_type": "code",
   "execution_count": null,
   "metadata": {
    "id": "wGh3Dp1S1iJs"
   },
   "outputs": [],
   "source": [
    "%pip install ninja"
   ]
  },
  {
   "cell_type": "code",
   "execution_count": null,
   "metadata": {
    "id": "-g4utTqP1jP7"
   },
   "outputs": [],
   "source": [
    "!git clone https://github.com/PlathC/GanAugmentedCNN.git"
   ]
  },
  {
   "cell_type": "code",
   "execution_count": null,
   "metadata": {
    "id": "Kjt3cz8a1kCA"
   },
   "outputs": [],
   "source": [
    "%cd /content/GanAugmentedCNN"
   ]
  },
  {
   "cell_type": "code",
   "execution_count": null,
   "metadata": {
    "id": "zRAb2DXH1k8p"
   },
   "outputs": [],
   "source": [
    "!git fetch origin main\n",
    "!git reset --hard FETCH_HEAD"
   ]
  },
  {
   "cell_type": "markdown",
   "metadata": {
    "id": "Ho6jDux22cK7"
   },
   "source": [
    "## Results generation\n",
    "\n",
    "Do not hesitate to modify dataset path to your needs."
   ]
  },
  {
   "cell_type": "markdown",
   "metadata": {
    "id": "SIWt4Eky2mXn"
   },
   "source": [
    "### Raw results"
   ]
  },
  {
   "cell_type": "code",
   "execution_count": null,
   "metadata": {
    "id": "7THgdWr31mkr"
   },
   "outputs": [],
   "source": [
    "%load_ext autoreload\n",
    "%autoreload 2\n",
    "%matplotlib inline\n",
    "\n",
    "%run generate_dataset.py --checkpoints '' '' '' '' '' '' '' '' '' '' '' '' '' '' '' '' '' '' '' '' '' '' '' \\\n",
    "  --class_folders '{\"cecum\": [\"../training-set-full/lower-gi-tract/lgi-anatomical-landmarks/cecum\"], \"ileum\": [\"../training-set-full/lower-gi-tract/lgi-anatomical-landmarks/ileum\"], \"retroflex-rectum\": [\"../training-set-full/lower-gi-tract/lgi-anatomical-landmarks/retroflex-rectum\"], \"hemorrhoids\": [\"../training-set-full/lower-gi-tract/lgi-pathological-findings/hemorrhoids\"], \"polyps\": [\"../training-set-full/lower-gi-tract/lgi-pathological-findings/polyps\"], \"ulcerative-colitis-grade-0-1\": [\"../training-set-full/lower-gi-tract/lgi-pathological-findings/uc-grade-1/ulcerative-colitis-grade-0-1\"], \"ulcerative-colitis-grade-1\": [\"../training-set-full/lower-gi-tract/lgi-pathological-findings/uc-grade-1/ulcerative-colitis-grade-1\"], \"ulcerative-colitis-grade-1-2\": [\"../training-set-full/lower-gi-tract/lgi-pathological-findings/unused-uc/ulcerative-colitis-grade-1-2\"], \"ulcerative-colitis-grade-2\": [\"../training-set-full/lower-gi-tract/lgi-pathological-findings/uc-grade-2/ulcerative-colitis-grade-2\"], \"ulcerative-colitis-grade-2-3\": [\"../training-set-full/lower-gi-tract/lgi-pathological-findings/uc-grade-3/ulcerative-colitis-grade-2-3\"], \"ulcerative-colitis-grade-3\": [\"../training-set-full/lower-gi-tract/lgi-pathological-findings/uc-grade-3/ulcerative-colitis-grade-3\"], \"bbps-0-1\": [\"../training-set-full/lower-gi-tract/lgi-quality-of-mucosal-views/bbps-0-1\"], \"bbps-2-3\": [\"../training-set-full/lower-gi-tract/lgi-quality-of-mucosal-views/bbps-2-3\"], \"impacted-stool\": [\"../training-set-full/lower-gi-tract/lgi-quality-of-mucosal-views/impacted-stool\"], \"dyed-lifted-polyps\": [\"../training-set-full/lower-gi-tract/lgi-therapeutic-interventions/dyed-lifted-polyps\"], \"dyed-resection-margins\": [\"../training-set-full/lower-gi-tract/lgi-therapeutic-interventions/dyed-resection-margins\"], \"pylorus\": [\"../training-set-full/upper-gi-tract/ugi-anatomical-landmarks/pylorus\"], \"retroflex-stomach\": [\"../training-set-full/upper-gi-tract/ugi-anatomical-landmarks/retroflex-stomach\"], \"z-line\": [\"../training-set-full/upper-gi-tract/ugi-anatomical-landmarks/z-line\"], \"barretts\": [\"../training-set-full/upper-gi-tract/ugi-pathological-findings/barretts\"], \"barretts-short-segment\": [\"../training-set-full/upper-gi-tract/ugi-pathological-findings/barretts-short-segment\"], \"esophagitis-a\": [\"../training-set-full/upper-gi-tract/ugi-pathological-findings/esophagitis-a\"], \"esophagitis-b-d\": [\"../training-set-full/upper-gi-tract/ugi-pathological-findings/esophagitis-b-d\"] }'\\\n",
    "  --generate_number 0 --output_dir ../fullhk_dataset_raw  \\\n",
    "  --split_file ../training-set-full/splits/hk_2_fold_split_with_paths.csv"
   ]
  },
  {
   "cell_type": "code",
   "execution_count": null,
   "metadata": {
    "id": "NzTWvfor1n5v"
   },
   "outputs": [],
   "source": [
    "%load_ext autoreload\n",
    "%autoreload 2\n",
    "%matplotlib inline\n",
    "\n",
    "non_pathological_checkpoint = os.path.join(CHECKPOINT_DIR, '2.sg2ada_non_pathological.pkl')\n",
    "pathological_checkpoint = os.path.join(CHECKPOINT_DIR, '3.sg2ada_pathological.pkl')\n",
    "%run generate_dataset.py --checkpoints $non_pathological_checkpoint $pathological_checkpoint \\\n",
    "  --class_folders '{\"non_pathological\": [\"../training-set-full/lower-gi-tract/lgi-quality-of-mucosal-views/bbps-2-3\", \"../training-set-full/lower-gi-tract/lgi-pathological-findings/uc-grade-1\"], \"pathological\": [\"../training-set-full/lower-gi-tract/lgi-pathological-findings/uc-grade-2\", \"../training-set-full/lower-gi-tract/lgi-pathological-findings/uc-grade-3\"]}'\\\n",
    "  --generate_number 0 --output_dir ../custom_uc_raw  \\\n",
    "  --split_file ../training-set-full/splits/hk_2_fold_split_with_paths.csv"
   ]
  },
  {
   "cell_type": "markdown",
   "metadata": {
    "id": "0Vp0r3V81t0B"
   },
   "source": [
    "No synthetic No pretrain"
   ]
  },
  {
   "cell_type": "code",
   "execution_count": null,
   "metadata": {
    "id": "LcCx6TlH1q1z"
   },
   "outputs": [],
   "source": [
    "output = os.path.join(OUTPUT_DIR, 'ResNet50/FHKRawNoPretrain')\n",
    "%run main.py --batch_size 128  --dataset ../fullhk_dataset_raw --da True --output_dir $output --architecture resnet50"
   ]
  },
  {
   "cell_type": "code",
   "execution_count": null,
   "metadata": {
    "id": "yBwVi5dx1riC"
   },
   "outputs": [],
   "source": [
    "output = os.path.join(OUTPUT_DIR, 'ResNet50/CUCRawNoPretrain')\n",
    "%run main.py --batch_size 128  --dataset ../custom_uc_raw --da True --output_dir $output --architecture resnet50"
   ]
  },
  {
   "cell_type": "code",
   "execution_count": null,
   "metadata": {
    "id": "2Dgik-b61sH9"
   },
   "outputs": [],
   "source": [
    "output = os.path.join(OUTPUT_DIR, 'DenseNet161/FHKRawNoPretrain')\n",
    "%run main.py --batch_size 64  --dataset ../fullhk_dataset_raw --da True --output_dir $output --architecture densenet161"
   ]
  },
  {
   "cell_type": "code",
   "execution_count": null,
   "metadata": {
    "id": "YJmERThx1swc"
   },
   "outputs": [],
   "source": [
    "output = os.path.join(OUTPUT_DIR, 'DenseNet161/CUCRawNoPretrain')\n",
    "%run main.py --batch_size 64  --dataset ../custom_uc_raw --da True --output_dir $output --architecture densenet161"
   ]
  },
  {
   "cell_type": "markdown",
   "metadata": {
    "id": "gxh4pquq1tkD"
   },
   "source": [
    "No synthetic ImageNet"
   ]
  },
  {
   "cell_type": "code",
   "execution_count": null,
   "metadata": {
    "id": "6Hf2j8bn2bI1"
   },
   "outputs": [],
   "source": [
    "output = os.path.join(OUTPUT_DIR, 'ResNet50/FHKRawImageNet')\n",
    "%run main.py --batch_size 128  --dataset ../fullhk_dataset_raw --da True --output_dir $output --architecture resnet50 --pretrained ImageNet"
   ]
  },
  {
   "cell_type": "code",
   "execution_count": null,
   "metadata": {
    "id": "Sz5cuah92b0_"
   },
   "outputs": [],
   "source": [
    "output = os.path.join(OUTPUT_DIR, 'ResNet50/CUCRawImageNet')\n",
    "%run main.py --batch_size 128  --dataset ../custom_uc_raw --da True --output_dir $output --architecture resnet50 --pretrained ImageNet"
   ]
  },
  {
   "cell_type": "code",
   "execution_count": null,
   "metadata": {
    "id": "o_gdt0tY2cVc"
   },
   "outputs": [],
   "source": [
    "output = os.path.join(OUTPUT_DIR, 'DenseNet161/FHKRawImageNet')\n",
    "%run main.py --batch_size 64  --dataset ../fullhk_dataset_raw --da True --output_dir $output --architecture densenet161 --pretrained ImageNet"
   ]
  },
  {
   "cell_type": "code",
   "execution_count": null,
   "metadata": {
    "id": "eyQ208Q_2c9e"
   },
   "outputs": [],
   "source": [
    "output = os.path.join(OUTPUT_DIR, 'DenseNet161/CUCRawImageNet')\n",
    "%run main.py --batch_size 64  --dataset ../custom_uc_raw --da True --output_dir $output --architecture densenet161 --pretrained ImageNet"
   ]
  },
  {
   "cell_type": "markdown",
   "metadata": {
    "id": "f5df9TCg2k25"
   },
   "source": [
    "### Augmented\n"
   ]
  },
  {
   "cell_type": "markdown",
   "metadata": {
    "id": "0bWsPsku3rFm"
   },
   "source": [
    "Create and save augmented datasets"
   ]
  },
  {
   "cell_type": "code",
   "execution_count": null,
   "metadata": {
    "id": "vI-4JXMo2rhG"
   },
   "outputs": [],
   "source": [
    "import os\n",
    "\n",
    "out_dir = os.path.join(OUTPUT_DIR, 'datasets')\n",
    "dataset_name = 'FHK' # CUC or FHK\n",
    "generation_nb = 700\n",
    "\n",
    "if dataset_name == 'FHK':\n",
    "    class_folders = {\"cecum\": [\"../training-set-full/lower-gi-tract/lgi-anatomical-landmarks/cecum\"], \"ileum\": [\"../training-set-full/lower-gi-tract/lgi-anatomical-landmarks/ileum\"], \"retroflex-rectum\": [\"../training-set-full/lower-gi-tract/lgi-anatomical-landmarks/retroflex-rectum\"], \"hemorrhoids\": [\"../training-set-full/lower-gi-tract/lgi-pathological-findings/hemorrhoids\"], \"polyps\": [\"../training-set-full/lower-gi-tract/lgi-pathological-findings/polyps\"], \"ulcerative-colitis-grade-0-1\": [\"../training-set-full/lower-gi-tract/lgi-pathological-findings/uc-grade-1/ulcerative-colitis-grade-0-1\"], \"ulcerative-colitis-grade-1\": [\"../training-set-full/lower-gi-tract/lgi-pathological-findings/uc-grade-1/ulcerative-colitis-grade-1\"], \"ulcerative-colitis-grade-1-2\": [\"../training-set-full/lower-gi-tract/lgi-pathological-findings/unused-uc/ulcerative-colitis-grade-1-2\"], \"ulcerative-colitis-grade-2\": [\"../training-set-full/lower-gi-tract/lgi-pathological-findings/uc-grade-2/ulcerative-colitis-grade-2\"], \"ulcerative-colitis-grade-2-3\": [\"../training-set-full/lower-gi-tract/lgi-pathological-findings/uc-grade-3/ulcerative-colitis-grade-2-3\"], \"ulcerative-colitis-grade-3\": [\"../training-set-full/lower-gi-tract/lgi-pathological-findings/uc-grade-3/ulcerative-colitis-grade-3\"], \"bbps-0-1\": [\"../training-set-full/lower-gi-tract/lgi-quality-of-mucosal-views/bbps-0-1\"], \"bbps-2-3\": [\"../training-set-full/lower-gi-tract/lgi-quality-of-mucosal-views/bbps-2-3\"], \"impacted-stool\": [\"../training-set-full/lower-gi-tract/lgi-quality-of-mucosal-views/impacted-stool\"], \"dyed-lifted-polyps\": [\"../training-set-full/lower-gi-tract/lgi-therapeutic-interventions/dyed-lifted-polyps\"], \"dyed-resection-margins\": [\"../training-set-full/lower-gi-tract/lgi-therapeutic-interventions/dyed-resection-margins\"], \"pylorus\": [\"../training-set-full/upper-gi-tract/ugi-anatomical-landmarks/pylorus\"], \"retroflex-stomach\": [\"../training-set-full/upper-gi-tract/ugi-anatomical-landmarks/retroflex-stomach\"], \"z-line\": [\"../training-set-full/upper-gi-tract/ugi-anatomical-landmarks/z-line\"], \"barretts\": [\"../training-set-full/upper-gi-tract/ugi-pathological-findings/barretts\"], \"barretts-short-segment\": [\"../training-set-full/upper-gi-tract/ugi-pathological-findings/barretts-short-segment\"], \"esophagitis-a\": [\"../training-set-full/upper-gi-tract/ugi-pathological-findings/esophagitis-a\"], \"esophagitis-b-d\": [\"../training-set-full/upper-gi-tract/ugi-pathological-findings/esophagitis-b-d\"] }\n",
    "    checkpoints   = ['_', os.path.join(CHECKPOINT_DIR, '2.sg2ada_ileum.pkl'), '_', os.path.join(CHECKPOINT_DIR, '2.sg2ada_hemorrhoids.pkl'), '_', '_', os.path.join(CHECKPOINT_DIR, '2.sg2ada_uc1.pkl'), '_', '_', '_', os.path.join(CHECKPOINT_DIR, '2.sg2ada_uc3.pkl'), '_', '_', os.path.join(CHECKPOINT_DIR, '2.sg2ada_impacted-stool.pkl'), '_', '_', '_', '_', '_', os.path.join(CHECKPOINT_DIR, '2.sg2ada_barrets.pkl'), os.path.join(CHECKPOINT_DIR, '2.sg2ada_barrets-short-segment.pkl'), os.path.join(CHECKPOINT_DIR, '2.sg2ada_esophagitis-a.pkl'), os.path.join(CHECKPOINT_DIR, '2.sg2ada_esophagitis-b-d.pkl')]\n",
    "else:\n",
    "    class_folders = {\"non_pathological\": [\"../training-set-full/lower-gi-tract/lgi-quality-of-mucosal-views/bbps-2-3\", \"../training-set-full/lower-gi-tract/lgi-pathological-findings/uc-grade-1\"], \"pathological\": [\"../training-set-full/lower-gi-tract/lgi-pathological-findings/uc-grade-2\", \"../training-set-full/lower-gi-tract/lgi-pathological-findings/uc-grade-3\"]}\n",
    "    checkpoints   = [os.path.join(CHECKPOINT_DIR, '2.sg2ada_non_pathological.pkl'), os.path.join(CHECKPOINT_DIR, '3.sg2ada_pathological.pkl')]\n",
    "\n",
    "split_file = '../training-set-full/splits/hk_2_fold_split_with_paths.csv'\n",
    "dataset_dir = os.path.join('../', dataset_name + '_' + str(generation_nb))\n",
    "\n",
    "import json\n",
    "class_folders = json.dumps(json.dumps(class_folders))\n",
    "class_names = ' '.join(class_names)\n",
    "checkpoints = ' '.join(checkpoints)\n",
    "\n",
    "get_ipython().run_line_magic('run', f'generate_dataset.py --checkpoints {checkpoints} '\n",
    "  f'--class_folders {class_folders} '\n",
    "  f'--generate_number {generation_nb} --output_dir {dataset_dir} '\n",
    "  f'--split_file {split_file}')\n",
    "\n",
    "import os\n",
    "import zipfile\n",
    "    \n",
    "def zipdir(path, ziph):\n",
    "    # ziph is zipfile handle\n",
    "    for root, dirs, files in os.walk(path):\n",
    "        for file in files:\n",
    "            ziph.write(os.path.join(root, file), \n",
    "                       os.path.relpath(os.path.join(root, file), \n",
    "                                       os.path.join(path, '..')))\n",
    "      \n",
    "zip_name = dataset_name + '_' + str(generation_nb) + '.zip'\n",
    "local_zip_path = os.path.join('..', zip_name)\n",
    "zipf = zipfile.ZipFile(local_zip_path, 'w', zipfile.ZIP_DEFLATED)\n",
    "zipdir(dataset_dir, zipf)\n",
    "zipf.close()\n",
    "\n",
    "from shutil import copyfile\n",
    "copyfile(local_zip_path, os.path.join(out_dir, zip_name))\n",
    "\n",
    "from shutil import rmtree\n",
    "rmtree(dataset_dir)\n",
    "os.remove(local_zip_path)"
   ]
  },
  {
   "cell_type": "markdown",
   "metadata": {
    "id": "vIOg3ZDd3wAK"
   },
   "source": [
    "Load dataset"
   ]
  },
  {
   "cell_type": "code",
   "execution_count": null,
   "metadata": {
    "id": "qbhqP1-w2tKO"
   },
   "outputs": [],
   "source": [
    "out_dir = os.path.join(OUTPUT_DIR, 'datasets')\n",
    "dataset_name = 'FHK' # or CUC\n",
    "generation_nb = 700\n",
    "\n",
    "out_folder = dataset_name + '_' + str(generation_nb)\n",
    "zip_name = out_folder + '.zip'\n",
    "zip_path = os.path.join(out_dir, zip_name)\n",
    "\n",
    "if os.path.exists(zip_path):\n",
    "    from shutil import copyfile\n",
    "    local_zip_path = os.path.join('../', zip_name)\n",
    "    copyfile(zip_path, local_zip_path)\n",
    "\n",
    "    import zipfile\n",
    "    print('Starting extraction...')\n",
    "    with zipfile.ZipFile(local_zip_path) as zip_ref:\n",
    "        zip_ref.extractall('..')\n",
    "    print(f'Extraction of {local_zip_path} done.')    \n",
    "else:\n",
    "    raise FileNotFoundError(f'{zip_path} does not exist.')"
   ]
  },
  {
   "cell_type": "code",
   "execution_count": null,
   "metadata": {
    "id": "8Ol0HEIX4p--"
   },
   "outputs": [],
   "source": [
    "dataset_name = dataset_name + str(generation_nb)\n",
    "dataset_path = os.path.join(out_folder)"
   ]
  },
  {
   "cell_type": "code",
   "execution_count": null,
   "metadata": {
    "id": "b1gH294i2uiL"
   },
   "outputs": [],
   "source": [
    "output = os.path.join(OUTPUT_DIR, f'ResNet50/{dataset_name}NoPretrain')\n",
    "%run main.py --batch_size 128 --dataset $dataset_path --da True --output_dir $output --architecture resnet50 "
   ]
  },
  {
   "cell_type": "code",
   "execution_count": null,
   "metadata": {
    "id": "jLya5r_z2vTG"
   },
   "outputs": [],
   "source": [
    "output = os.path.join(OUTPUT_DIR, f'DenseNet161/{dataset_name}NoPretrain')\n",
    "%run main.py --batch_size 64  --dataset $dataset_path --da True --output_dir $output --architecture densenet161"
   ]
  },
  {
   "cell_type": "code",
   "execution_count": null,
   "metadata": {
    "id": "ndlh3Rfg2wXd"
   },
   "outputs": [],
   "source": [
    "output = os.path.join(OUTPUT_DIR, f'ResNet50/{dataset_name}ImageNet')\n",
    "%run main.py --batch_size 128 --dataset $dataset_path --da True --output_dir $output --architecture resnet50 --pretrained ImageNet"
   ]
  },
  {
   "cell_type": "code",
   "execution_count": null,
   "metadata": {
    "id": "QBtJmZGc2xcU"
   },
   "outputs": [],
   "source": [
    "output = os.path.join(OUTPUT_DIR, f'DenseNet161/{dataset_name}ImageNet')\n",
    "%run main.py --batch_size 64  --dataset $dataset_path --da True --output_dir $output --architecture densenet161 --pretrained ImageNet "
   ]
  }
 ],
 "metadata": {
  "accelerator": "GPU",
  "colab": {
   "collapsed_sections": [],
   "name": "GithubPaperResults.ipynb",
   "provenance": [],
   "toc_visible": true
  },
  "kernelspec": {
   "display_name": "Python 3",
   "language": "python",
   "name": "python3"
  },
  "language_info": {
   "codemirror_mode": {
    "name": "ipython",
    "version": 3
   },
   "file_extension": ".py",
   "mimetype": "text/x-python",
   "name": "python",
   "nbconvert_exporter": "python",
   "pygments_lexer": "ipython3",
   "version": "3.7.7"
  }
 },
 "nbformat": 4,
 "nbformat_minor": 1
}
